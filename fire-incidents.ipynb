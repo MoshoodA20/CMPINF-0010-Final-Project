{
 "cells": [
  {
   "cell_type": "code",
   "execution_count": 2,
   "metadata": {},
   "outputs": [
    {
     "data": {
      "text/html": [
       "<div>\n",
       "<style scoped>\n",
       "    .dataframe tbody tr th:only-of-type {\n",
       "        vertical-align: middle;\n",
       "    }\n",
       "\n",
       "    .dataframe tbody tr th {\n",
       "        vertical-align: top;\n",
       "    }\n",
       "\n",
       "    .dataframe thead th {\n",
       "        text-align: right;\n",
       "    }\n",
       "</style>\n",
       "<table border=\"1\" class=\"dataframe\">\n",
       "  <thead>\n",
       "    <tr style=\"text-align: right;\">\n",
       "      <th></th>\n",
       "      <th>call_no</th>\n",
       "      <th>incident_type</th>\n",
       "      <th>type_description</th>\n",
       "      <th>address</th>\n",
       "      <th>alarm_time</th>\n",
       "      <th>alarms</th>\n",
       "      <th>primary_unit</th>\n",
       "      <th>census_tract</th>\n",
       "      <th>neighborhood</th>\n",
       "      <th>council_district</th>\n",
       "      <th>ward</th>\n",
       "      <th>tract</th>\n",
       "      <th>public_works_division</th>\n",
       "      <th>pli_division</th>\n",
       "      <th>police_zone</th>\n",
       "      <th>fire_zone</th>\n",
       "      <th>latitude</th>\n",
       "      <th>longitude</th>\n",
       "    </tr>\n",
       "  </thead>\n",
       "  <tbody>\n",
       "    <tr>\n",
       "      <th>0</th>\n",
       "      <td>F160029985</td>\n",
       "      <td>111.0</td>\n",
       "      <td>Building fire</td>\n",
       "      <td>800 BLOCK CENTER ST, WILKINSBURG PA 15221</td>\n",
       "      <td>2016-04-21T05:01:04</td>\n",
       "      <td>1</td>\n",
       "      <td>231EN16</td>\n",
       "      <td>NaN</td>\n",
       "      <td>NaN</td>\n",
       "      <td>NaN</td>\n",
       "      <td>NaN</td>\n",
       "      <td>4.200356e+10</td>\n",
       "      <td>NaN</td>\n",
       "      <td>NaN</td>\n",
       "      <td>NaN</td>\n",
       "      <td>3-16</td>\n",
       "      <td>40.441275</td>\n",
       "      <td>-79.882485</td>\n",
       "    </tr>\n",
       "    <tr>\n",
       "      <th>1</th>\n",
       "      <td>F180022058</td>\n",
       "      <td>111.0</td>\n",
       "      <td>Building fire</td>\n",
       "      <td>1100 BLOCK JANE ST, WILKINSBURG PA 15221</td>\n",
       "      <td>2018-03-13T08:34:43</td>\n",
       "      <td>1</td>\n",
       "      <td>231EN16</td>\n",
       "      <td>NaN</td>\n",
       "      <td>NaN</td>\n",
       "      <td>NaN</td>\n",
       "      <td>NaN</td>\n",
       "      <td>4.200356e+10</td>\n",
       "      <td>NaN</td>\n",
       "      <td>NaN</td>\n",
       "      <td>NaN</td>\n",
       "      <td>3-21</td>\n",
       "      <td>40.436342</td>\n",
       "      <td>-79.881003</td>\n",
       "    </tr>\n",
       "    <tr>\n",
       "      <th>2</th>\n",
       "      <td>F180022102</td>\n",
       "      <td>131.0</td>\n",
       "      <td>Passenger vehicle fire</td>\n",
       "      <td>SB STATE HWY 28 SB AT 31S, PITTSBURGH PA 15212</td>\n",
       "      <td>2018-03-13T11:54:23</td>\n",
       "      <td>0</td>\n",
       "      <td>231EN32</td>\n",
       "      <td>2406.0</td>\n",
       "      <td>NaN</td>\n",
       "      <td>NaN</td>\n",
       "      <td>NaN</td>\n",
       "      <td>NaN</td>\n",
       "      <td>NaN</td>\n",
       "      <td>NaN</td>\n",
       "      <td>NaN</td>\n",
       "      <td>1-1A</td>\n",
       "      <td>NaN</td>\n",
       "      <td>NaN</td>\n",
       "    </tr>\n",
       "    <tr>\n",
       "      <th>3</th>\n",
       "      <td>F170043431</td>\n",
       "      <td>131.0</td>\n",
       "      <td>Passenger vehicle fire</td>\n",
       "      <td>1700 BLOCK BELLEAU DR, PITTSBURGH PA 15212</td>\n",
       "      <td>2017-05-31T08:39:47</td>\n",
       "      <td>0</td>\n",
       "      <td>231EN38</td>\n",
       "      <td>2509.0</td>\n",
       "      <td>Fineview</td>\n",
       "      <td>6.0</td>\n",
       "      <td>25.0</td>\n",
       "      <td>4.200325e+10</td>\n",
       "      <td>1.0</td>\n",
       "      <td>25.0</td>\n",
       "      <td>1.0</td>\n",
       "      <td>1-10</td>\n",
       "      <td>40.460303</td>\n",
       "      <td>-80.006980</td>\n",
       "    </tr>\n",
       "    <tr>\n",
       "      <th>4</th>\n",
       "      <td>F180021111</td>\n",
       "      <td>111.0</td>\n",
       "      <td>Building fire</td>\n",
       "      <td>2400 BLOCK VILLAGE RD, PITTSBURGH PA 15205</td>\n",
       "      <td>2018-03-09T10:26:42</td>\n",
       "      <td>1</td>\n",
       "      <td>231EN31</td>\n",
       "      <td>2808.0</td>\n",
       "      <td>Fairywood</td>\n",
       "      <td>2.0</td>\n",
       "      <td>28.0</td>\n",
       "      <td>4.200356e+10</td>\n",
       "      <td>5.0</td>\n",
       "      <td>28.0</td>\n",
       "      <td>6.0</td>\n",
       "      <td>1-16</td>\n",
       "      <td>40.449009</td>\n",
       "      <td>-80.076607</td>\n",
       "    </tr>\n",
       "  </tbody>\n",
       "</table>\n",
       "</div>"
      ],
      "text/plain": [
       "      call_no  incident_type        type_description  \\\n",
       "0  F160029985          111.0           Building fire   \n",
       "1  F180022058          111.0           Building fire   \n",
       "2  F180022102          131.0  Passenger vehicle fire   \n",
       "3  F170043431          131.0  Passenger vehicle fire   \n",
       "4  F180021111          111.0           Building fire   \n",
       "\n",
       "                                          address           alarm_time  \\\n",
       "0       800 BLOCK CENTER ST, WILKINSBURG PA 15221  2016-04-21T05:01:04   \n",
       "1        1100 BLOCK JANE ST, WILKINSBURG PA 15221  2018-03-13T08:34:43   \n",
       "2  SB STATE HWY 28 SB AT 31S, PITTSBURGH PA 15212  2018-03-13T11:54:23   \n",
       "3      1700 BLOCK BELLEAU DR, PITTSBURGH PA 15212  2017-05-31T08:39:47   \n",
       "4      2400 BLOCK VILLAGE RD, PITTSBURGH PA 15205  2018-03-09T10:26:42   \n",
       "\n",
       "   alarms primary_unit  census_tract neighborhood  council_district  ward  \\\n",
       "0       1      231EN16           NaN          NaN               NaN   NaN   \n",
       "1       1      231EN16           NaN          NaN               NaN   NaN   \n",
       "2       0      231EN32        2406.0          NaN               NaN   NaN   \n",
       "3       0      231EN38        2509.0     Fineview               6.0  25.0   \n",
       "4       1      231EN31        2808.0    Fairywood               2.0  28.0   \n",
       "\n",
       "          tract  public_works_division  pli_division  police_zone fire_zone  \\\n",
       "0  4.200356e+10                    NaN           NaN          NaN      3-16   \n",
       "1  4.200356e+10                    NaN           NaN          NaN      3-21   \n",
       "2           NaN                    NaN           NaN          NaN      1-1A   \n",
       "3  4.200325e+10                    1.0          25.0          1.0      1-10   \n",
       "4  4.200356e+10                    5.0          28.0          6.0      1-16   \n",
       "\n",
       "    latitude  longitude  \n",
       "0  40.441275 -79.882485  \n",
       "1  40.436342 -79.881003  \n",
       "2        NaN        NaN  \n",
       "3  40.460303 -80.006980  \n",
       "4  40.449009 -80.076607  "
      ]
     },
     "execution_count": 2,
     "metadata": {},
     "output_type": "execute_result"
    }
   ],
   "source": [
    "import pandas as pd\n",
    "import numpy as np\n",
    "%matplotlib inline\n",
    "import matplotlib.pyplot as plt\n",
    "\n",
    "fireIncidents = pd.read_csv(\"fire-incidents-pittsburgh.csv\")\n",
    "fireIncidents.head()"
   ]
  },
  {
   "cell_type": "code",
   "execution_count": 3,
   "metadata": {},
   "outputs": [
    {
     "data": {
      "text/plain": [
       "Central Business District    6\n",
       "Squirrel Hill South          4\n",
       "Carrick                      3\n",
       "Allentown                    3\n",
       "East Allegheny               3\n",
       "Knoxville                    3\n",
       "Hazelwood                    2\n",
       "Brookline                    2\n",
       "Homewood North               2\n",
       "North Oakland                2\n",
       "Upper Hill                   2\n",
       "South Side Flats             2\n",
       "Perry South                  2\n",
       "Beltzhoover                  2\n",
       "Sheraden                     2\n",
       "Homewood West                2\n",
       "Overbrook                    2\n",
       "Shadyside                    2\n",
       "Greenfield                   2\n",
       "Bluff                        2\n",
       "Homewood South               2\n",
       "Marshall-Shadeland           2\n",
       "North Shore                  2\n",
       "Middle Hill                  2\n",
       "Squirrel Hill North          1\n",
       "Troy Hill                    1\n",
       "Westwood                     1\n",
       "Terrace Village              1\n",
       "Brighton Heights             1\n",
       "Lower Lawrenceville          1\n",
       "Crawford-Roberts             1\n",
       "East Liberty                 1\n",
       "South Shore                  1\n",
       "East Hills                   1\n",
       "Larimer                      1\n",
       "Perry North                  1\n",
       "Elliott                      1\n",
       "Northview Heights            1\n",
       "Lincoln-Lemington-Belmar     1\n",
       "Duquesne Heights             1\n",
       "Crafton Heights              1\n",
       "Manchester                   1\n",
       "Bloomfield                   1\n",
       "East Carnegie                1\n",
       "Name: neighborhood, dtype: int64"
      ]
     },
     "execution_count": 3,
     "metadata": {},
     "output_type": "execute_result"
    }
   ],
   "source": [
    "fireIncidents[\"neighborhood\"].tail(100).value_counts()"
   ]
  },
  {
   "cell_type": "code",
   "execution_count": 5,
   "metadata": {},
   "outputs": [
    {
     "data": {
      "text/plain": [
       "<matplotlib.axes._subplots.AxesSubplot at 0x7f36741815b0>"
      ]
     },
     "execution_count": 5,
     "metadata": {},
     "output_type": "execute_result"
    },
    {
     "data": {
      "image/png": "[encoded data removed]",
      "text/plain": [
       "<Figure size 1440x720 with 1 Axes>"
      ]
     },
     "metadata": {
      "needs_background": "light"
     },
     "output_type": "display_data"
    }
   ],
   "source": [
    "fireIncidents[\"neighborhood\"].tail(100).value_counts().plot(kind=\"bar\", figsize=(20,10))"
   ]
  },
  {
   "cell_type": "code",
   "execution_count": 7,
   "metadata": {},
   "outputs": [
    {
     "name": "stdout",
     "output_type": "stream",
     "text": [
      "['East Allegheny', nan, nan, 'Crafton Heights', 'South Side Flats', nan, 'Duquesne Heights', nan, 'Northview Heights', nan, 'Central Business District', 'Allentown', nan, 'Greenfield', 'Hazelwood', 'Perry North', 'North Oakland', nan, 'Squirrel Hill North', 'Overbrook', nan, 'North Shore', nan, 'Sheraden', 'Upper Hill', 'Upper Hill', 'Perry South', nan, nan, 'Allentown', 'Carrick', 'East Carnegie', 'Marshall-Shadeland', 'Carrick', 'Central Business District', nan, 'Shadyside', 'Beltzhoover', 'Elliott', 'Troy Hill', 'Knoxville', 'Central Business District', 'Central Business District', 'South Shore', 'North Oakland', nan, 'Bluff', nan, 'Knoxville', 'Brighton Heights', 'Homewood South', 'Westwood', 'Squirrel Hill South', 'North Shore', 'Homewood North', 'Overbrook', 'Squirrel Hill South', 'Greenfield', 'East Hills', 'Hazelwood', 'Squirrel Hill South', nan, 'Bloomfield', 'Allentown', 'Crawford-Roberts', 'Larimer', nan, 'Terrace Village', 'Homewood West', 'Shadyside', 'Middle Hill', 'Brookline', 'Knoxville', 'Perry South', 'Central Business District', nan, 'Sheraden', nan, 'South Side Flats', 'Beltzhoover', 'Homewood South', 'East Liberty', 'Homewood North', 'Carrick', nan, 'Bluff', 'Middle Hill', 'Lower Lawrenceville', 'Marshall-Shadeland', 'Squirrel Hill South', 'Brookline', nan, 'Homewood West', 'East Allegheny', 'East Allegheny', 'Lincoln-Lemington-Belmar', nan, nan, 'Manchester', 'Central Business District']\n"
     ]
    }
   ],
   "source": [
    "leastFireNeighborhoods = []\n",
    "for neighborhood in fireIncidents[\"neighborhood\"].tail(100):\n",
    "    leastFireNeighborhoods.append(neighborhood)\n",
    "    \n",
    "print(leastFireNeighborhoods)"
   ]
  },
  {
   "cell_type": "code",
   "execution_count": null,
   "metadata": {},
   "outputs": [],
   "source": []
  }
 ],
 "metadata": {
  "kernelspec": {
   "display_name": "Python 3",
   "language": "python",
   "name": "python3"
  },
  "language_info": {
   "codemirror_mode": {
    "name": "ipython",
    "version": 3
   },
   "file_extension": ".py",
   "mimetype": "text/x-python",
   "name": "python",
   "nbconvert_exporter": "python",
   "pygments_lexer": "ipython3",
   "version": "3.8.3"
  }
 },
 "nbformat": 4,
 "nbformat_minor": 4
}
